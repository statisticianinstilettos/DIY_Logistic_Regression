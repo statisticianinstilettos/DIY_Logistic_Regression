{
 "cells": [
  {
   "cell_type": "markdown",
   "metadata": {},
   "source": [
    "# Hand coded Logistic Regression using Gradient Descent"
   ]
  },
  {
   "cell_type": "markdown",
   "metadata": {},
   "source": [
    "Writing a logistic regression by hand is a popular programming interview question for experienced Data Scientists. In this notebook, I create a logistic regression function, and solve for the parameter estimates using gradient descent. \n",
    "\n",
    "<b>Sigmoid function:</b>\n",
    "\n",
    "$$\\sigma(t) = \\frac{e^{t}}{e^{t}+1} = \\frac{1}{1+e^{-t}}$$\n",
    "\n",
    "<b>Logistic Regression:</b>\n",
    "\n",
    "The logistic regression function predicts the probability that an observation is class 1, given the x features. It can be rearranged into the format of the sigmoid function. \n",
    "$$\\pi_i = P(Y=1|X=x_i) = \\frac{e^{\\beta_0+\\beta_1x_i}}{e^{\\beta_0+\\beta_1x_i}+1} =  \\frac{1}{1+e^{-(\\beta_0+\\beta_1x_i)}} = \\sigma(-(\\beta_0+\\beta_1x_i)) = \\sigma(\\beta^{T}X) $$\n",
    "\n",
    "Where $$\\beta = [\\beta_0, \\beta_1, \\beta_2, ...,\\beta_n]$$\n",
    "$$Y \\in [0,1]$$\n",
    "$$X \\in [X_1, X_2, ..., X_n]$$\n",
    "$$x_i = [x_{i1}, x_{i2}, ..., x_{in}]$$\n",
    "\n",
    "\n",
    "<b>Log-Likelihood Function:</b>\n",
    "\n",
    "$$l(\\beta|X, Y) = \\sum_{n=1}^{n}[y_i\\beta^T-\\ln(1+e^{\\beta^Tx_i})]$$\n",
    "\n",
    "<b>Maximum Likelihood Estimate:</b>\n",
    "\n",
    "The MLE for the parameter vector $\\beta$ can be calculated from the log-likelihood function.\n",
    "$$\\widehat{\\beta_{MLE}} = \\text{argmax}_{\\beta}\\ l(\\beta|X, Y) $$\n",
    "\n",
    "To solve for the maximum likelihood estimate using argmax, we take the derivate of $l(\\beta|X, Y)$ w.r.t. $\\beta$, and set it equal to 0.\n",
    "\n",
    "$$\\nabla_\\beta l = \\sum_{n=1}^{n}[y_i-\\sigma(\\beta^Tx_i)]x_i = 0$$\n",
    "\n",
    "This expression doe snot have a closed form solution, so we will use gradient descent to solve for the MLE parameter estimates $\\widehat{\\beta_{MLE}}$. For simplicity, I have not included the intercept in this calculation."
   ]
  },
  {
   "cell_type": "code",
   "execution_count": 133,
   "metadata": {},
   "outputs": [],
   "source": [
    "import pandas as pd\n",
    "import numpy as np\n",
    "import seaborn as sns"
   ]
  },
  {
   "cell_type": "code",
   "execution_count": 134,
   "metadata": {},
   "outputs": [
    {
     "data": {
      "text/html": [
       "<div>\n",
       "<style scoped>\n",
       "    .dataframe tbody tr th:only-of-type {\n",
       "        vertical-align: middle;\n",
       "    }\n",
       "\n",
       "    .dataframe tbody tr th {\n",
       "        vertical-align: top;\n",
       "    }\n",
       "\n",
       "    .dataframe thead th {\n",
       "        text-align: right;\n",
       "    }\n",
       "</style>\n",
       "<table border=\"1\" class=\"dataframe\">\n",
       "  <thead>\n",
       "    <tr style=\"text-align: right;\">\n",
       "      <th></th>\n",
       "      <th>labels</th>\n",
       "      <th>X1</th>\n",
       "      <th>X2</th>\n",
       "    </tr>\n",
       "  </thead>\n",
       "  <tbody>\n",
       "    <tr>\n",
       "      <th>0</th>\n",
       "      <td>0</td>\n",
       "      <td>-2.135166</td>\n",
       "      <td>0.131451</td>\n",
       "    </tr>\n",
       "    <tr>\n",
       "      <th>1</th>\n",
       "      <td>0</td>\n",
       "      <td>-1.658526</td>\n",
       "      <td>0.134047</td>\n",
       "    </tr>\n",
       "    <tr>\n",
       "      <th>2</th>\n",
       "      <td>0</td>\n",
       "      <td>-1.567905</td>\n",
       "      <td>0.273892</td>\n",
       "    </tr>\n",
       "  </tbody>\n",
       "</table>\n",
       "</div>"
      ],
      "text/plain": [
       "   labels        X1        X2\n",
       "0       0 -2.135166  0.131451\n",
       "1       0 -1.658526  0.134047\n",
       "2       0 -1.567905  0.273892"
      ]
     },
     "execution_count": 134,
     "metadata": {},
     "output_type": "execute_result"
    }
   ],
   "source": [
    "#simulate some data\n",
    "Y = np.sort(np.random.randint(low=0, high=2, size=100))\n",
    "X1 = np.sort(np.random.normal(loc=0.0, scale=1, size=100))\n",
    "X2 = np.sort(np.random.uniform(low=0, high=5, size=100))\n",
    "X = np.vstack((X1, X2))\n",
    "\n",
    "df = pd.DataFrame([y, X1, X2]).T\n",
    "df.columns = [\"labels\", \"X1\", \"X2\"]\n",
    "df[\"labels\"] = df.labels.astype('int')\n",
    "df.head(3)"
   ]
  },
  {
   "cell_type": "code",
   "execution_count": 135,
   "metadata": {},
   "outputs": [
    {
     "data": {
      "image/png": "[encoded data removed]",
      "text/plain": [
       "<matplotlib.figure.Figure at 0x11f8bb550>"
      ]
     },
     "metadata": {
      "needs_background": "light"
     },
     "output_type": "display_data"
    }
   ],
   "source": [
    "ax = sns.scatterplot(x=\"X1\", y=\"X2\",\n",
    "                     hue=\"labels\", style=\"labels\", data=df)"
   ]
  },
  {
   "cell_type": "code",
   "execution_count": 136,
   "metadata": {},
   "outputs": [],
   "source": [
    "def sigmoid(scores):\n",
    "    return 1 / (1 + np.exp(-scores))\n",
    "\n",
    "def log_likelihood(B, X, Y):\n",
    "    scores = np.dot(B.T, X)\n",
    "    ll = np.sum(y*scores - log(1+np.exp(scores)))\n",
    "    return ll\n",
    "\n",
    "def gradient(X, Y, Yhat):\n",
    "    gradient = np.dot(X, Y-Yhat)\n",
    "    return gradient"
   ]
  },
  {
   "cell_type": "code",
   "execution_count": 137,
   "metadata": {},
   "outputs": [],
   "source": [
    "def estimate_parameters(X, Y, num_steps=100, learning_rate=0.05):\n",
    "    ''' Use gradient descent to estimate beta paramters'''\n",
    "    \n",
    "    #randomly initialize parameter vector\n",
    "    B = np.zeros(X.shape[0])\n",
    "\n",
    "    for i in range(num_steps):\n",
    "        scores = np.dot(B.T, X)\n",
    "        Yhat = sigmoid(scores)\n",
    "        \n",
    "        # calcualte gradient\n",
    "        grad = gradient(X, Y, Yhat)\n",
    "        \n",
    "        # update parameters\n",
    "        B += learning_rate * grad\n",
    "        \n",
    "    return B"
   ]
  },
  {
   "cell_type": "code",
   "execution_count": 142,
   "metadata": {},
   "outputs": [
    {
     "data": {
      "text/plain": [
       "array([5.46762998, 0.1163999 ])"
      ]
     },
     "execution_count": 142,
     "metadata": {},
     "output_type": "execute_result"
    }
   ],
   "source": [
    "#Use gradient descent to estimate logistic regression parameters\n",
    "Bhat = estimate_parameters(X, Y, learning_rate=0.01)\n",
    "Bhat"
   ]
  },
  {
   "cell_type": "code",
   "execution_count": 143,
   "metadata": {},
   "outputs": [],
   "source": [
    "def logistic_regression(X, parameters, threshold=0.5):\n",
    "    '''Use the logistic regression model to predict class based on features X'''\n",
    "    \n",
    "    scores = np.dot(parameters.T, X) \n",
    "    Yhat = sigmoid(scores)\n",
    "    \n",
    "    class_pred = classify(Yhat, threshold)\n",
    "    \n",
    "    return Yhat, class_pred\n",
    "\n",
    "def classify(Yhat, threshold):\n",
    "    return int(Yhat >= threshold)\n",
    "    "
   ]
  },
  {
   "cell_type": "code",
   "execution_count": 153,
   "metadata": {},
   "outputs": [
    {
     "name": "stdout",
     "output_type": "stream",
     "text": [
      "(2.526512652258599e-05, 0)\n",
      "(0.9999999999994718, 1)\n"
     ]
    }
   ],
   "source": [
    "#example predictions\n",
    "print logistic_regression([-2, 3], Bhat)\n",
    "print logistic_regression([5, 8], Bhat)"
   ]
  },
  {
   "cell_type": "code",
   "execution_count": null,
   "metadata": {},
   "outputs": [],
   "source": []
  }
 ],
 "metadata": {
  "kernelspec": {
   "display_name": "Python 2",
   "language": "python",
   "name": "python2"
  },
  "language_info": {
   "codemirror_mode": {
    "name": "ipython",
    "version": 2
   },
   "file_extension": ".py",
   "mimetype": "text/x-python",
   "name": "python",
   "nbconvert_exporter": "python",
   "pygments_lexer": "ipython2",
   "version": "2.7.15"
  }
 },
 "nbformat": 4,
 "nbformat_minor": 2
}
